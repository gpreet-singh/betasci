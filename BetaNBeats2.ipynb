{
 "cells": [
  {
   "cell_type": "code",
   "execution_count": 1,
   "metadata": {
    "collapsed": true
   },
   "outputs": [],
   "source": [
    "# install the libraries\n",
    "from sklearn.preprocessing import MinMaxScaler\n",
    "import os\n",
    "import pandas as pd\n",
    "import numpy as np\n",
    "import pytorch_lightning as pl\n",
    "from pytorch_lightning.callbacks import EarlyStopping\n",
    "from pytorch_forecasting import TimeSeriesDataSet, NBeats, Baseline\n",
    "from pytorch_forecasting.data import NaNLabelEncoder\n",
    "from pytorch_forecasting.data.examples import generate_ar_data\n",
    "from pytorch_forecasting.metrics import SMAPE"
   ]
  },
  {
   "cell_type": "code",
   "execution_count": 2,
   "outputs": [],
   "source": [
    "my_early_stop_callback = EarlyStopping(\n",
    "        monitor='val_loss',\n",
    "        min_delta=0.00,\n",
    "        patience=3,\n",
    "        verbose=False,\n",
    "        mode='min',\n",
    "        strict=True\n",
    "    )"
   ],
   "metadata": {
    "collapsed": false,
    "pycharm": {
     "name": "#%%\n"
    }
   }
  },
  {
   "cell_type": "code",
   "execution_count": 3,
   "outputs": [
    {
     "data": {
      "text/plain": "   Sale\n0  4327\n1  4486\n2  4997\n3  7176\n4  5580",
      "text/html": "<div>\n<style scoped>\n    .dataframe tbody tr th:only-of-type {\n        vertical-align: middle;\n    }\n\n    .dataframe tbody tr th {\n        vertical-align: top;\n    }\n\n    .dataframe thead th {\n        text-align: right;\n    }\n</style>\n<table border=\"1\" class=\"dataframe\">\n  <thead>\n    <tr style=\"text-align: right;\">\n      <th></th>\n      <th>Sale</th>\n    </tr>\n  </thead>\n  <tbody>\n    <tr>\n      <th>0</th>\n      <td>4327</td>\n    </tr>\n    <tr>\n      <th>1</th>\n      <td>4486</td>\n    </tr>\n    <tr>\n      <th>2</th>\n      <td>4997</td>\n    </tr>\n    <tr>\n      <th>3</th>\n      <td>7176</td>\n    </tr>\n    <tr>\n      <th>4</th>\n      <td>5580</td>\n    </tr>\n  </tbody>\n</table>\n</div>"
     },
     "execution_count": 3,
     "metadata": {},
     "output_type": "execute_result"
    }
   ],
   "source": [
    "file = \"C:/Users/gurpr/Videos/BetaSci/Rossmann_Store1_Data_FULL.csv\"\n",
    "pwd = os.getcwd()\n",
    "os.chdir(os.path.dirname(file))\n",
    "data = pd.read_csv(os.path.basename(file), usecols = [1],\n",
    "                      engine = \"python\",\n",
    "                      skipfooter = 3)\n",
    "\n",
    "data.head()"
   ],
   "metadata": {
    "collapsed": false,
    "pycharm": {
     "name": "#%%\n"
    }
   }
  },
  {
   "cell_type": "code",
   "execution_count": null,
   "outputs": [],
   "source": [
    "from pytorch_forecasting.data import (\n",
    " TimeSeriesDataSet,\n",
    " GroupNormalizer\n",
    ")\n",
    "max_prediction_length = 195  # forecast of 195 days\n",
    "max_encoder_length = 582  # using history of 582 days\n",
    "training_cutoff = data[\"time_idx\"].max() - max_prediction_length\n",
    "training = TimeSeriesDataSet(\n",
    " data[lambda x: x.time_idx <= training_cutoff],\n",
    " time_idx=\"time_idx\",\n",
    " target=\"volume\",\n",
    " group_ids=[\"agency\", \"sku\"],\n",
    " min_encoder_length=0,  # allowing predictions without history\n",
    "max_encoder_length=max_encoder_length,\n",
    " min_prediction_length=1,\n",
    " max_prediction_length=max_prediction_length,\n",
    " static_categoricals=[\"agency\", \"sku\"],\n",
    " static_reals=[\n",
    "     \"avg_population_2017\",\n",
    "     \"avg_yearly_household_income_2017\"\n",
    " ],\n",
    "time_varying_known_categoricals=[\"special_days\", \"month\"],\n",
    " # group of categorical variables can be treated as one variable\n",
    " variable_groups={\"special_days\": special_days},\n",
    " time_varying_known_reals=[\n",
    "     \"time_idx\",\n",
    "     \"price_regular\",\n",
    "     \"discount_in_percent\"\n",
    " ],\n",
    " time_varying_unknown_categoricals=[],\n",
    " time_varying_unknown_reals=[\n",
    "     \"volume\",\n",
    "     \"log_volume\",\n",
    "     \"industry_volume\",\n",
    "     \"soda_volume\",\n",
    "     \"avg_max_temp\",\n",
    "     \"avg_volume_by_agency\",\n",
    "     \"avg_volume_by_sku\",\n",
    " ],\n",
    " target_normalizer=GroupNormalizer(\n",
    "     groups=[\"agency\", \"sku\"], coerce_positive=1.0\n",
    " ),  # use softplus with beta=1.0 and normalize by group\n",
    " add_relative_time_idx=True,  # add as feature\n",
    " add_target_scales=True,  # add as feature\n",
    " add_encoder_length=True,  # add as feature\n",
    ")\n",
    "# creating validation set (predict=True) which means to predict the\n",
    "# last max_prediction_length points in time for each series\n",
    "validation = TimeSeriesDataSet.from_dataset(\n",
    " training, data, predict=True, stop_randomization=True\n",
    ")\n",
    "# create dataloaders for model\n",
    "batch_size = 128\n",
    "train_dataloader = training.to_dataloader(\n",
    " train=True, batch_size=batch_size, num_workers=0\n",
    ")\n",
    "val_dataloader = validation.to_dataloader(\n",
    " train=False, batch_size=batch_size * 10, num_workers=0\n",
    ")"
   ],
   "metadata": {
    "collapsed": false,
    "pycharm": {
     "name": "#%%\n"
    }
   }
  }
 ],
 "metadata": {
  "kernelspec": {
   "display_name": "PyCharm (BetaSci)",
   "language": "python",
   "name": "pycharm-6936f044"
  },
  "language_info": {
   "codemirror_mode": {
    "name": "ipython",
    "version": 2
   },
   "file_extension": ".py",
   "mimetype": "text/x-python",
   "name": "python",
   "nbconvert_exporter": "python",
   "pygments_lexer": "ipython2",
   "version": "2.7.6"
  }
 },
 "nbformat": 4,
 "nbformat_minor": 0
}
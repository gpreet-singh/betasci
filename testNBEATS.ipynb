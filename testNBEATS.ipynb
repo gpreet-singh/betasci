{
 "cells": [
  {
   "cell_type": "code",
   "execution_count": 2,
   "metadata": {
    "collapsed": true
   },
   "outputs": [
    {
     "ename": "ModuleNotFoundError",
     "evalue": "No module named 'nbeats_keras'",
     "output_type": "error",
     "traceback": [
      "\u001B[1;31m---------------------------------------------------------------------------\u001B[0m",
      "\u001B[1;31mModuleNotFoundError\u001B[0m                       Traceback (most recent call last)",
      "\u001B[1;32m<ipython-input-2-dd4dfdf5d098>\u001B[0m in \u001B[0;36m<module>\u001B[1;34m\u001B[0m\n\u001B[0;32m      3\u001B[0m \u001B[1;32mimport\u001B[0m \u001B[0mnumpy\u001B[0m \u001B[1;32mas\u001B[0m \u001B[0mnp\u001B[0m\u001B[1;33m\u001B[0m\u001B[1;33m\u001B[0m\u001B[0m\n\u001B[0;32m      4\u001B[0m \u001B[1;33m\u001B[0m\u001B[0m\n\u001B[1;32m----> 5\u001B[1;33m \u001B[1;32mfrom\u001B[0m \u001B[0mnbeats_keras\u001B[0m\u001B[1;33m.\u001B[0m\u001B[0mmodel\u001B[0m \u001B[1;32mimport\u001B[0m \u001B[0mNBeatsNet\u001B[0m \u001B[1;32mas\u001B[0m \u001B[0mNBeatsKeras\u001B[0m\u001B[1;33m\u001B[0m\u001B[1;33m\u001B[0m\u001B[0m\n\u001B[0m\u001B[0;32m      6\u001B[0m \u001B[1;32mfrom\u001B[0m \u001B[0mnbeats_pytorch\u001B[0m\u001B[1;33m.\u001B[0m\u001B[0mmodel\u001B[0m \u001B[1;32mimport\u001B[0m \u001B[0mNBeatsNet\u001B[0m \u001B[1;32mas\u001B[0m \u001B[0mNBeatsPytorch\u001B[0m\u001B[1;33m\u001B[0m\u001B[1;33m\u001B[0m\u001B[0m\n\u001B[0;32m      7\u001B[0m \u001B[1;33m\u001B[0m\u001B[0m\n",
      "\u001B[1;31mModuleNotFoundError\u001B[0m: No module named 'nbeats_keras'"
     ]
    }
   ],
   "source": [
    "import warnings\n",
    "\n",
    "import numpy as np\n",
    "\n",
    "from nbeats_keras.model import NBeatsNet as NBeatsKeras\n",
    "from nbeats_pytorch.model import NBeatsNet as NBeatsPytorch\n",
    "\n",
    "warnings.filterwarnings(action='ignore', message='Setting attributes')\n",
    "\n",
    "\n",
    "def main():\n",
    "    # https://keras.io/layers/recurrent/\n",
    "    num_samples, time_steps, input_dim, output_dim = 50_000, 10, 1, 1\n",
    "\n",
    "    # Definition of the model.\n",
    "    model_keras = NBeatsKeras(backcast_length=time_steps, forecast_length=output_dim,\n",
    "                              stack_types=(NBeatsKeras.GENERIC_BLOCK, NBeatsKeras.GENERIC_BLOCK),\n",
    "                              nb_blocks_per_stack=2, thetas_dim=(4, 4), share_weights_in_stack=True,\n",
    "                              hidden_layer_units=64)\n",
    "\n",
    "    model_pytorch = NBeatsPytorch(backcast_length=time_steps, forecast_length=output_dim,\n",
    "                                  stack_types=(NBeatsPytorch.GENERIC_BLOCK, NBeatsPytorch.GENERIC_BLOCK),\n",
    "                                  nb_blocks_per_stack=2, thetas_dim=(4, 4), share_weights_in_stack=True,\n",
    "                                  hidden_layer_units=64)\n",
    "\n",
    "    # Definition of the objective function and the optimizer.\n",
    "    model_keras.compile(loss='mae', optimizer='adam')\n",
    "    model_pytorch.compile(loss='mae', optimizer='adam')\n",
    "\n",
    "    # Definition of the data. The problem to solve is to find f such as | f(x) - y | -> 0.\n",
    "    # where f = np.mean.\n",
    "    x = np.random.uniform(size=(num_samples, time_steps, input_dim))\n",
    "    y = np.mean(x, axis=1, keepdims=True)\n",
    "\n",
    "    # Split data into training and testing datasets.\n",
    "    c = num_samples // 10\n",
    "    x_train, y_train, x_test, y_test = x[c:], y[c:], x[:c], y[:c]\n",
    "    test_size = len(x_test)\n",
    "\n",
    "    # Train the model.\n",
    "    print('Keras training...')\n",
    "    model_keras.fit(x_train, y_train, validation_data=(x_test, y_test), epochs=20, batch_size=128)\n",
    "    print('Pytorch training...')\n",
    "    model_pytorch.fit(x_train, y_train, validation_data=(x_test, y_test), epochs=20, batch_size=128)\n",
    "\n",
    "    # Save the model for later.\n",
    "    model_keras.save('n_beats_model.h5')\n",
    "    model_pytorch.save('n_beats_pytorch.th')\n",
    "\n",
    "    # Predict on the testing set (forecast).\n",
    "    predictions_keras_forecast = model_keras.predict(x_test)\n",
    "    predictions_pytorch_forecast = model_pytorch.predict(x_test)\n",
    "    np.testing.assert_equal(predictions_keras_forecast.shape, (test_size, model_keras.forecast_length, output_dim))\n",
    "    np.testing.assert_equal(predictions_pytorch_forecast.shape, (test_size, model_pytorch.forecast_length, output_dim))\n",
    "\n",
    "    # Predict on the testing set (backcast).\n",
    "    predictions_keras_backcast = model_keras.predict(x_test, return_backcast=True)\n",
    "    predictions_pytorch_backcast = model_pytorch.predict(x_test, return_backcast=True)\n",
    "    np.testing.assert_equal(predictions_keras_backcast.shape, (test_size, model_keras.backcast_length, output_dim))\n",
    "    np.testing.assert_equal(predictions_pytorch_backcast.shape, (test_size, model_pytorch.backcast_length, output_dim))\n",
    "\n",
    "    # Load the model.\n",
    "    model_keras_2 = NBeatsKeras.load('n_beats_model.h5')\n",
    "    model_pytorch_2 = NBeatsPytorch.load('n_beats_pytorch.th')\n",
    "\n",
    "    np.testing.assert_almost_equal(predictions_keras_forecast, model_keras_2.predict(x_test))\n",
    "    np.testing.assert_almost_equal(predictions_pytorch_forecast, model_pytorch_2.predict(x_test))\n"
   ]
  }
 ],
 "metadata": {
  "kernelspec": {
   "name": "pycharm-6936f044",
   "language": "python",
   "display_name": "PyCharm (BetaSci)"
  },
  "language_info": {
   "codemirror_mode": {
    "name": "ipython",
    "version": 2
   },
   "file_extension": ".py",
   "mimetype": "text/x-python",
   "name": "python",
   "nbconvert_exporter": "python",
   "pygments_lexer": "ipython2",
   "version": "2.7.6"
  }
 },
 "nbformat": 4,
 "nbformat_minor": 0
}
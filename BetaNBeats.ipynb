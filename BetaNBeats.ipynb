{
 "cells": [
  {
   "cell_type": "code",
   "execution_count": 15,
   "metadata": {
    "collapsed": true
   },
   "outputs": [],
   "source": [
    "##!!!!!!!!Works with python 3.8, numpy 1.20.1 or 1.19.2 or 1.16.2 (this) and nbeats-forecast 1.3.7!!!!!!!!!!!\n",
    "import os\n",
    "import numpy as np\n",
    "import pandas as pd\n",
    "from torch import optim\n",
    "import matplotlib.pyplot as plt\n",
    "from nbeats_forecast import NBeats\n",
    "from sklearn.metrics import mean_squared_error, mean_absolute_error"
   ]
  },
  {
   "cell_type": "code",
   "execution_count": 16,
   "outputs": [],
   "source": [
    "#Load data\n",
    "file = \"C:/Users/gurpr/Videos/BetaSci/Rossmann_Store1_Data_FULL_NBeats_Zero_Noise.csv\"\n",
    "pwd = os.getcwd()\n",
    "os.chdir(os.path.dirname(file))\n",
    "data = pd.read_csv(os.path.basename(file))\n",
    "data = data.values        #univariate time series data of shape nx1 (numpy array)"
   ],
   "metadata": {
    "collapsed": false,
    "pycharm": {
     "name": "#%%\n"
    }
   }
  },
  {
   "cell_type": "code",
   "execution_count": null,
   "outputs": [
    {
     "name": "stdout",
     "output_type": "stream",
     "text": [
      "| N-Beats\n",
      "| --  Stack Generic (#0) (share_weights_in_stack=False)\n",
      "     | -- GenericBlock(units=128, thetas_dim=2, backcast_length=25, forecast_length=194, share_thetas=False) at @2475430380400\n",
      "     | -- GenericBlock(units=128, thetas_dim=2, backcast_length=25, forecast_length=194, share_thetas=False) at @2475409999712\n",
      "     | -- GenericBlock(units=128, thetas_dim=2, backcast_length=25, forecast_length=194, share_thetas=False) at @2475429631264\n",
      "| --  Stack Generic (#1) (share_weights_in_stack=False)\n",
      "     | -- GenericBlock(units=128, thetas_dim=8, backcast_length=25, forecast_length=194, share_thetas=False) at @2475430239392\n",
      "     | -- GenericBlock(units=128, thetas_dim=8, backcast_length=25, forecast_length=194, share_thetas=False) at @2475430240112\n",
      "     | -- GenericBlock(units=128, thetas_dim=8, backcast_length=25, forecast_length=194, share_thetas=False) at @2475430239104\n"
     ]
    }
   ],
   "source": [
    "#Default Setting\n",
    "model = NBeats(data=data, period_to_forecast=194, train_percent=0.75,\n",
    "               backcast_length=25, thetas_dims=[2,8], nb_blocks_per_stack=3, hidden_layer_units=128)\n",
    "model.fit(epoch=500, verbose=0, optimiser=optim.AdamW(model.parameters,\n",
    "            lr=0.1, betas=(0.9, 0.999), eps=1e-08, weight_decay=0.1, amsgrad=False))\n",
    "forecast = model.predict()"
   ],
   "metadata": {
    "collapsed": false,
    "pycharm": {
     "name": "#%%\n",
     "is_executing": true
    }
   }
  },
  {
   "cell_type": "code",
   "execution_count": null,
   "outputs": [],
   "source": [
    "y_test = data[-194:, :]\n",
    "#print(y_test)\n",
    "rmse = mean_squared_error(y_test, forecast , squared=False)\n",
    "mae = mean_absolute_error(y_test, forecast)\n",
    "print(\"Rmse:\" + str(rmse))\n",
    "print(\"Mae: \" + str(mae))"
   ],
   "metadata": {
    "collapsed": false,
    "pycharm": {
     "name": "#%%\n",
     "is_executing": true
    }
   }
  },
  {
   "cell_type": "code",
   "execution_count": null,
   "outputs": [],
   "source": [
    "plt.plot(data)\n",
    "#\n",
    "plt.plot(forecast)\n",
    "plt.show()"
   ],
   "metadata": {
    "collapsed": false,
    "pycharm": {
     "name": "#%%\n",
     "is_executing": true
    }
   }
  },
  {
   "cell_type": "code",
   "execution_count": null,
   "outputs": [],
   "source": [
    "out = np.array(forecast, dtype=int)\n",
    "out.round()\n",
    "print(out)\n",
    "np.savetxt(r\"C:\\Users\\gurpr\\Videos\\BetaSci\\NBeats_zero_noise.csv\", out, delimiter=\",\", fmt='%.0i')"
   ],
   "metadata": {
    "collapsed": false,
    "pycharm": {
     "name": "#%%\n",
     "is_executing": true
    }
   }
  }
 ],
 "metadata": {
  "kernelspec": {
   "name": "pycharm-6936f044",
   "language": "python",
   "display_name": "PyCharm (BetaSci)"
  },
  "language_info": {
   "codemirror_mode": {
    "name": "ipython",
    "version": 2
   },
   "file_extension": ".py",
   "mimetype": "text/x-python",
   "name": "python",
   "nbconvert_exporter": "python",
   "pygments_lexer": "ipython2",
   "version": "2.7.6"
  }
 },
 "nbformat": 4,
 "nbformat_minor": 0
}
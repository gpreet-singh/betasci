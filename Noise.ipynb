{
 "cells": [
  {
   "cell_type": "code",
   "execution_count": 6,
   "metadata": {
    "collapsed": true
   },
   "outputs": [],
   "source": [
    "import os\n",
    "import numpy as np\n",
    "import pandas as pd\n",
    "from numpy.random import default_rng"
   ]
  },
  {
   "cell_type": "code",
   "execution_count": 7,
   "outputs": [],
   "source": [
    "#Read data\n",
    "file = \"C:/Users/gurpr/Videos/BetaSci/Rossmann_Store1_Data_Training.csv\"\n",
    "pwd = os.getcwd()\n",
    "os.chdir(os.path.dirname(file))\n",
    "data = pd.read_csv(os.path.basename(file))\n",
    "#data.head()\n"
   ],
   "metadata": {
    "collapsed": false,
    "pycharm": {
     "name": "#%%\n"
    }
   }
  },
  {
   "cell_type": "code",
   "execution_count": 8,
   "outputs": [
    {
     "name": "stdout",
     "output_type": "stream",
     "text": [
      "[  7  11  21  31  34  37  48  96 101 111 124 136 185 187 199 234 241 248\n",
      " 253 258 268 290 306 308 313 328 329 340 357 358 360 367 373 374 376 382\n",
      " 396 403 415 460 472 482 483 508 509 510 537 544 566 572]\n"
     ]
    }
   ],
   "source": [
    "#Normal distributed nosie\n",
    "df = data\n",
    "obs = 50\n",
    "\n",
    "#Generate index that will be changed\n",
    "rng = default_rng()\n",
    "zero_idx = rng.choice(len(df.index), size=obs, replace=False)\n",
    "zero_idx.sort()\n",
    "print(zero_idx)\n",
    "\n",
    "#Generate noise\n",
    "noise = (np.random.normal(1000,1500, obs)).astype(int)\n",
    "#print(noise)\n",
    "\n",
    "#Adjust dataset with noise\n",
    "df.loc[zero_idx, 'Sale'] += noise\n",
    "\n",
    "# make negative values postive or make them 0?\n",
    "df.Sale = df.Sale.abs()"
   ],
   "metadata": {
    "collapsed": false,
    "pycharm": {
     "name": "#%%\n"
    }
   }
  },
  {
   "cell_type": "code",
   "execution_count": 9,
   "outputs": [],
   "source": [
    "# write out to csv file\n",
    "pd.DataFrame(df).to_csv(r'C:\\Users\\gurpr\\Videos\\BetaSci\\Rossmann_Store1Noise50_1000-1500.csv', index=False, header=True)\n"
   ],
   "metadata": {
    "collapsed": false,
    "pycharm": {
     "name": "#%%\n"
    }
   }
  },
  {
   "cell_type": "code",
   "execution_count": 10,
   "outputs": [],
   "source": [
    "#Make random zeros\n",
    "df = data\n",
    "obs = 50\n",
    "\n",
    "rng = default_rng()\n",
    "zero_idx = rng.choice(len(df.index), size=obs, replace=False)\n",
    "zero_idx\n",
    "#array with index where 0's will be written\n",
    "\n",
    "df.loc[zero_idx,'Sale'] = 0\n",
    "df"
   ],
   "metadata": {
    "collapsed": false,
    "pycharm": {
     "name": "#%%\n"
    }
   }
  },
  {
   "cell_type": "code",
   "execution_count": 11,
   "outputs": [],
   "source": [
    "#Write out\n",
    "pd.DataFrame(df).to_csv(r'C:\\Users\\gurpr\\Videos\\BetaSci\\Rossmann_Store1_Zero_Noise50.csv', index=False, header=True)"
   ],
   "metadata": {
    "collapsed": false,
    "pycharm": {
     "name": "#%%\n"
    }
   }
  }
 ],
 "metadata": {
  "kernelspec": {
   "display_name": "Python 3",
   "language": "python",
   "name": "python3"
  },
  "language_info": {
   "codemirror_mode": {
    "name": "ipython",
    "version": 2
   },
   "file_extension": ".py",
   "mimetype": "text/x-python",
   "name": "python",
   "nbconvert_exporter": "python",
   "pygments_lexer": "ipython2",
   "version": "2.7.6"
  }
 },
 "nbformat": 4,
 "nbformat_minor": 0
}
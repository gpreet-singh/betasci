{
 "cells": [
  {
   "cell_type": "code",
   "execution_count": 2,
   "metadata": {
    "collapsed": true
   },
   "outputs": [],
   "source": [
    "import os\n",
    "import numpy as np\n",
    "import pandas as pd\n",
    "from numpy.random import default_rng"
   ]
  },
  {
   "cell_type": "code",
   "execution_count": 16,
   "outputs": [
    {
     "data": {
      "text/plain": "        Date  Sale\n0  3/01/2013  4327\n1  4/01/2013  4486\n2  5/01/2013  4997\n3  7/01/2013  7176\n4  8/01/2013  5580",
      "text/html": "<div>\n<style scoped>\n    .dataframe tbody tr th:only-of-type {\n        vertical-align: middle;\n    }\n\n    .dataframe tbody tr th {\n        vertical-align: top;\n    }\n\n    .dataframe thead th {\n        text-align: right;\n    }\n</style>\n<table border=\"1\" class=\"dataframe\">\n  <thead>\n    <tr style=\"text-align: right;\">\n      <th></th>\n      <th>Date</th>\n      <th>Sale</th>\n    </tr>\n  </thead>\n  <tbody>\n    <tr>\n      <th>0</th>\n      <td>3/01/2013</td>\n      <td>4327</td>\n    </tr>\n    <tr>\n      <th>1</th>\n      <td>4/01/2013</td>\n      <td>4486</td>\n    </tr>\n    <tr>\n      <th>2</th>\n      <td>5/01/2013</td>\n      <td>4997</td>\n    </tr>\n    <tr>\n      <th>3</th>\n      <td>7/01/2013</td>\n      <td>7176</td>\n    </tr>\n    <tr>\n      <th>4</th>\n      <td>8/01/2013</td>\n      <td>5580</td>\n    </tr>\n  </tbody>\n</table>\n</div>"
     },
     "execution_count": 16,
     "metadata": {},
     "output_type": "execute_result"
    }
   ],
   "source": [
    "#Read data\n",
    "file = \"C:/Users/gurpr/Videos/BetaSci/Rossmann_Store1_Data_FULL.csv\"\n",
    "pwd = os.getcwd()\n",
    "os.chdir(os.path.dirname(file))\n",
    "data = pd.read_csv(os.path.basename(file))\n",
    "data.head()\n"
   ],
   "metadata": {
    "collapsed": false,
    "pycharm": {
     "name": "#%%\n"
    }
   }
  },
  {
   "cell_type": "code",
   "execution_count": 15,
   "outputs": [
    {
     "name": "stdout",
     "output_type": "stream",
     "text": [
      "[ 13  19  22  35  42 104 106 111 116 123 139 171 186 204 244 251 258 262\n",
      " 269 284 287 308 354 355 409 414 436 438 447 459 469 505 514 539 546 554\n",
      " 566 567 581 585 618 626 639 640 662 694 703 728 729 749]\n",
      "[-166  -79  187   44  562   75  735  358  325  655  640  286 -438  364\n",
      "  286  -60   -8  122 -387 -401  225 -173 -305  482  -39  325   68 -184\n",
      " -206  328  780  572  504  528  561  176  784  183  171  986  332  386\n",
      "  -31  571  -59 -103  168 -362  592   38]\n"
     ]
    },
    {
     "data": {
      "text/plain": "           Date  Sale\n0     3/01/2013  4327\n1     4/01/2013  4486\n2     5/01/2013  4997\n3     7/01/2013  7176\n4     8/01/2013  5580\n..          ...   ...\n775  27/07/2015  6102\n776  28/07/2015  5011\n777  29/07/2015  4782\n778  30/07/2015  5020\n779  31/07/2015  5263\n\n[780 rows x 2 columns]",
      "text/html": "<div>\n<style scoped>\n    .dataframe tbody tr th:only-of-type {\n        vertical-align: middle;\n    }\n\n    .dataframe tbody tr th {\n        vertical-align: top;\n    }\n\n    .dataframe thead th {\n        text-align: right;\n    }\n</style>\n<table border=\"1\" class=\"dataframe\">\n  <thead>\n    <tr style=\"text-align: right;\">\n      <th></th>\n      <th>Date</th>\n      <th>Sale</th>\n    </tr>\n  </thead>\n  <tbody>\n    <tr>\n      <th>0</th>\n      <td>3/01/2013</td>\n      <td>4327</td>\n    </tr>\n    <tr>\n      <th>1</th>\n      <td>4/01/2013</td>\n      <td>4486</td>\n    </tr>\n    <tr>\n      <th>2</th>\n      <td>5/01/2013</td>\n      <td>4997</td>\n    </tr>\n    <tr>\n      <th>3</th>\n      <td>7/01/2013</td>\n      <td>7176</td>\n    </tr>\n    <tr>\n      <th>4</th>\n      <td>8/01/2013</td>\n      <td>5580</td>\n    </tr>\n    <tr>\n      <th>...</th>\n      <td>...</td>\n      <td>...</td>\n    </tr>\n    <tr>\n      <th>775</th>\n      <td>27/07/2015</td>\n      <td>6102</td>\n    </tr>\n    <tr>\n      <th>776</th>\n      <td>28/07/2015</td>\n      <td>5011</td>\n    </tr>\n    <tr>\n      <th>777</th>\n      <td>29/07/2015</td>\n      <td>4782</td>\n    </tr>\n    <tr>\n      <th>778</th>\n      <td>30/07/2015</td>\n      <td>5020</td>\n    </tr>\n    <tr>\n      <th>779</th>\n      <td>31/07/2015</td>\n      <td>5263</td>\n    </tr>\n  </tbody>\n</table>\n<p>780 rows × 2 columns</p>\n</div>"
     },
     "execution_count": 15,
     "metadata": {},
     "output_type": "execute_result"
    }
   ],
   "source": [
    "#Normal distributed nosie\n",
    "df = data\n",
    "obs = 50\n",
    "\n",
    "#Generate index that will be changed\n",
    "rng = default_rng()\n",
    "zero_idx = rng.choice(len(df.index), size=obs, replace=False)\n",
    "zero_idx.sort()\n",
    "print(zero_idx)\n",
    "\n",
    "#Generate noise\n",
    "noise = (np.random.normal(200,300, obs)).astype(int)\n",
    "print(noise)\n",
    "\n",
    "#Add noise to the dataframe\n",
    "df.loc[zero_idx, 'Sale'] = noise\n",
    "\n",
    "# make negative values 0\n",
    "df.Sale = df.Sale.mask(df.Sale.lt(0),0)\n",
    "\n",
    "# write out to csv file\n",
    "pd.DataFrame(df).to_csv(r'C:\\Users\\gurpr\\Videos\\BetaSci\\Rossmann_Store1Noise50_200-300.csv', index=False, header=True)\n"
   ],
   "metadata": {
    "collapsed": false,
    "pycharm": {
     "name": "#%%\n"
    }
   }
  },
  {
   "cell_type": "code",
   "execution_count": 4,
   "outputs": [
    {
     "data": {
      "text/plain": "           Date  Sale\n0     3/01/2013  4327\n1     4/01/2013  4486\n2     5/01/2013  4997\n3     7/01/2013  7176\n4     8/01/2013  5580\n..          ...   ...\n775  27/07/2015  6102\n776  28/07/2015  5011\n777  29/07/2015  4782\n778  30/07/2015  5020\n779  31/07/2015  5263\n\n[780 rows x 2 columns]",
      "text/html": "<div>\n<style scoped>\n    .dataframe tbody tr th:only-of-type {\n        vertical-align: middle;\n    }\n\n    .dataframe tbody tr th {\n        vertical-align: top;\n    }\n\n    .dataframe thead th {\n        text-align: right;\n    }\n</style>\n<table border=\"1\" class=\"dataframe\">\n  <thead>\n    <tr style=\"text-align: right;\">\n      <th></th>\n      <th>Date</th>\n      <th>Sale</th>\n    </tr>\n  </thead>\n  <tbody>\n    <tr>\n      <th>0</th>\n      <td>3/01/2013</td>\n      <td>4327</td>\n    </tr>\n    <tr>\n      <th>1</th>\n      <td>4/01/2013</td>\n      <td>4486</td>\n    </tr>\n    <tr>\n      <th>2</th>\n      <td>5/01/2013</td>\n      <td>4997</td>\n    </tr>\n    <tr>\n      <th>3</th>\n      <td>7/01/2013</td>\n      <td>7176</td>\n    </tr>\n    <tr>\n      <th>4</th>\n      <td>8/01/2013</td>\n      <td>5580</td>\n    </tr>\n    <tr>\n      <th>...</th>\n      <td>...</td>\n      <td>...</td>\n    </tr>\n    <tr>\n      <th>775</th>\n      <td>27/07/2015</td>\n      <td>6102</td>\n    </tr>\n    <tr>\n      <th>776</th>\n      <td>28/07/2015</td>\n      <td>5011</td>\n    </tr>\n    <tr>\n      <th>777</th>\n      <td>29/07/2015</td>\n      <td>4782</td>\n    </tr>\n    <tr>\n      <th>778</th>\n      <td>30/07/2015</td>\n      <td>5020</td>\n    </tr>\n    <tr>\n      <th>779</th>\n      <td>31/07/2015</td>\n      <td>5263</td>\n    </tr>\n  </tbody>\n</table>\n<p>780 rows × 2 columns</p>\n</div>"
     },
     "execution_count": 4,
     "metadata": {},
     "output_type": "execute_result"
    }
   ],
   "source": [
    "#Make random zeros\n",
    "df = data\n",
    "obs = 50\n",
    "\n",
    "rng = default_rng()\n",
    "zero_idx = rng.choice(len(df.index), size=obs, replace=False)\n",
    "zero_idx\n",
    "#array with index where 0's will be written\n",
    "\n",
    "df.loc[zero_idx,'Sale'] = 0\n",
    "df\n",
    "\n",
    "#Write out\n",
    "#pd.DataFrame(df).to_csv(r'C:\\Users\\gurpr\\Videos\\BetaSci\\Rossmann_Store1_Zero_Noise50.csv', index=True, header=True)"
   ],
   "metadata": {
    "collapsed": false,
    "pycharm": {
     "name": "#%%\n"
    }
   }
  }
 ],
 "metadata": {
  "kernelspec": {
   "display_name": "Python 3",
   "language": "python",
   "name": "python3"
  },
  "language_info": {
   "codemirror_mode": {
    "name": "ipython",
    "version": 2
   },
   "file_extension": ".py",
   "mimetype": "text/x-python",
   "name": "python",
   "nbconvert_exporter": "python",
   "pygments_lexer": "ipython2",
   "version": "2.7.6"
  }
 },
 "nbformat": 4,
 "nbformat_minor": 0
}
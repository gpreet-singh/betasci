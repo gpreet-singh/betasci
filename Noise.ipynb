{
 "cells": [
  {
   "cell_type": "code",
   "execution_count": 1,
   "metadata": {
    "collapsed": true
   },
   "outputs": [],
   "source": [
    "import os\n",
    "import numpy as np\n",
    "import pandas as pd\n",
    "from numpy.random import default_rng"
   ]
  },
  {
   "cell_type": "code",
   "execution_count": 6,
   "outputs": [],
   "source": [
    "#Read data\n",
    "file = \"C:/Users/gurpr/Videos/BetaSci/Rossmann_Store1_Data_FULL.csv\"\n",
    "pwd = os.getcwd()\n",
    "os.chdir(os.path.dirname(file))\n",
    "data = pd.read_csv(os.path.basename(file))\n",
    "#data.head()\n"
   ],
   "metadata": {
    "collapsed": false,
    "pycharm": {
     "name": "#%%\n"
    }
   }
  },
  {
   "cell_type": "code",
   "execution_count": 5,
   "outputs": [
    {
     "name": "stdout",
     "output_type": "stream",
     "text": [
      "[ 14  48  63  65  72  96 102 116 133 142 168 214 219 267 285 287 290 324\n",
      " 370 387 388 394 413 415 428 444 460 468 498 500 505 506 527 530 539 554\n",
      " 557 563 566 587 605 650 665 684 687 693 709 725 739 741]\n"
     ]
    }
   ],
   "source": [
    "#Normal distributed nosie\n",
    "df = data\n",
    "obs = 50\n",
    "\n",
    "#Generate index that will be changed\n",
    "rng = default_rng()\n",
    "zero_idx = rng.choice(len(df.index), size=obs, replace=False)\n",
    "zero_idx.sort()\n",
    "print(zero_idx)\n",
    "\n",
    "#Generate noise\n",
    "noise = (np.random.normal(1000,1500, obs)).astype(int)\n",
    "#print(noise)\n",
    "\n",
    "#Adjust dataset with noise\n",
    "df.loc[zero_idx, 'Sale'] += noise\n",
    "\n",
    "# make negative values postive or make them 0?\n",
    "df.Sale = df.Sale.abs()"
   ],
   "metadata": {
    "collapsed": false,
    "pycharm": {
     "name": "#%%\n"
    }
   }
  },
  {
   "cell_type": "code",
   "execution_count": 7,
   "outputs": [],
   "source": [
    "# write out to csv file\n",
    "pd.DataFrame(df).to_csv(r'C:\\Users\\gurpr\\Videos\\BetaSci\\Rossmann_Store1Noise50_1000-1500.csv', index=False, header=True)\n"
   ],
   "metadata": {
    "collapsed": false,
    "pycharm": {
     "name": "#%%\n"
    }
   }
  },
  {
   "cell_type": "code",
   "execution_count": 4,
   "outputs": [
    {
     "data": {
      "text/plain": "           Date  Sale\n0     3/01/2013  4327\n1     4/01/2013  4486\n2     5/01/2013  4997\n3     7/01/2013  7176\n4     8/01/2013  5580\n..          ...   ...\n775  27/07/2015  6102\n776  28/07/2015  5011\n777  29/07/2015  4782\n778  30/07/2015  5020\n779  31/07/2015  5263\n\n[780 rows x 2 columns]",
      "text/html": "<div>\n<style scoped>\n    .dataframe tbody tr th:only-of-type {\n        vertical-align: middle;\n    }\n\n    .dataframe tbody tr th {\n        vertical-align: top;\n    }\n\n    .dataframe thead th {\n        text-align: right;\n    }\n</style>\n<table border=\"1\" class=\"dataframe\">\n  <thead>\n    <tr style=\"text-align: right;\">\n      <th></th>\n      <th>Date</th>\n      <th>Sale</th>\n    </tr>\n  </thead>\n  <tbody>\n    <tr>\n      <th>0</th>\n      <td>3/01/2013</td>\n      <td>4327</td>\n    </tr>\n    <tr>\n      <th>1</th>\n      <td>4/01/2013</td>\n      <td>4486</td>\n    </tr>\n    <tr>\n      <th>2</th>\n      <td>5/01/2013</td>\n      <td>4997</td>\n    </tr>\n    <tr>\n      <th>3</th>\n      <td>7/01/2013</td>\n      <td>7176</td>\n    </tr>\n    <tr>\n      <th>4</th>\n      <td>8/01/2013</td>\n      <td>5580</td>\n    </tr>\n    <tr>\n      <th>...</th>\n      <td>...</td>\n      <td>...</td>\n    </tr>\n    <tr>\n      <th>775</th>\n      <td>27/07/2015</td>\n      <td>6102</td>\n    </tr>\n    <tr>\n      <th>776</th>\n      <td>28/07/2015</td>\n      <td>5011</td>\n    </tr>\n    <tr>\n      <th>777</th>\n      <td>29/07/2015</td>\n      <td>4782</td>\n    </tr>\n    <tr>\n      <th>778</th>\n      <td>30/07/2015</td>\n      <td>5020</td>\n    </tr>\n    <tr>\n      <th>779</th>\n      <td>31/07/2015</td>\n      <td>5263</td>\n    </tr>\n  </tbody>\n</table>\n<p>780 rows × 2 columns</p>\n</div>"
     },
     "execution_count": 4,
     "metadata": {},
     "output_type": "execute_result"
    }
   ],
   "source": [
    "#Make random zeros\n",
    "df = data\n",
    "obs = 50\n",
    "\n",
    "rng = default_rng()\n",
    "zero_idx = rng.choice(len(df.index), size=obs, replace=False)\n",
    "zero_idx\n",
    "#array with index where 0's will be written\n",
    "\n",
    "df.loc[zero_idx,'Sale'] = 0\n",
    "df\n",
    "\n",
    "#Write out\n",
    "#pd.DataFrame(df).to_csv(r'C:\\Users\\gurpr\\Videos\\BetaSci\\Rossmann_Store1_Zero_Noise50.csv', index=True, header=True)"
   ],
   "metadata": {
    "collapsed": false,
    "pycharm": {
     "name": "#%%\n"
    }
   }
  }
 ],
 "metadata": {
  "kernelspec": {
   "display_name": "Python 3",
   "language": "python",
   "name": "python3"
  },
  "language_info": {
   "codemirror_mode": {
    "name": "ipython",
    "version": 2
   },
   "file_extension": ".py",
   "mimetype": "text/x-python",
   "name": "python",
   "nbconvert_exporter": "python",
   "pygments_lexer": "ipython2",
   "version": "2.7.6"
  }
 },
 "nbformat": 4,
 "nbformat_minor": 0
}
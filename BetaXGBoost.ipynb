{
 "cells": [
  {
   "cell_type": "code",
   "execution_count": 46,
   "metadata": {
    "collapsed": true
   },
   "outputs": [],
   "source": [
    "#https://machinelearningmastery.com/xgboost-for-time-series-forecasting/?unapproved=601592&moderation-hash=d98f616a2939421833382d1e7772df57#comment-601592\n",
    "import os\n",
    "import time\n",
    "import pandas as pd\n",
    "from matplotlib import pyplot\n",
    "import numpy as np\n",
    "from scipy.stats import uniform, randint\n",
    "from sklearn.datasets import load_breast_cancer, load_diabetes, load_wine\n",
    "from sklearn.metrics import auc, accuracy_score, confusion_matrix, mean_squared_error\n",
    "from sklearn.model_selection import cross_val_score, GridSearchCV, KFold, RandomizedSearchCV, train_test_split\n",
    "from numpy import asarray\n",
    "from pandas import read_csv\n",
    "from pandas import DataFrame\n",
    "from pandas import concat\n",
    "from sklearn.metrics import mean_absolute_error\n",
    "from xgboost import XGBRegressor\n",
    "from matplotlib import pyplot\n",
    "\n",
    "params = {\n",
    "    \"learning_rate\" : [0.05, 0.1, 0.15, 0.20, 0.25, 0.3],\n",
    "    \"max_depth\" : [3,4,5,6,8,10,12,15],\n",
    "    \"main_child_weight\" : [1,2 ,3],\n",
    "    \"gamma\" : [0.0, 0.1, 0.2, 0.3, 0.4],\n",
    "    \"colsample_bytree\": [0.3, 0.4, 0.5, 0.7]\n",
    "}\n",
    "\n",
    "param_grid = {\n",
    "        'silent': [False],\n",
    "        'max_depth': [3,4,6,8, 10, 15, 20],\n",
    "        'learning_rate': [0.001, 0.01, 0.1, 0.2, 0,3],\n",
    "        'subsample': [0.5, 0.6, 0.7, 0.8, 0.9, 1.0],\n",
    "        'colsample_bytree': [0.4, 0.5, 0.6, 0.7, 0.8, 0.9, 1.0],\n",
    "        'colsample_bylevel': [0.4, 0.5, 0.6, 0.7, 0.8, 0.9, 1.0],\n",
    "        'min_child_weight': [0.5, 1.0, 3.0, 5.0, 7.0, 10.0],\n",
    "        'gamma': [0, 0.25, 0.5, 1.0],\n",
    "        'reg_lambda': [0.1, 1.0, 5.0, 10.0, 50.0, 100.0],\n",
    "        'n_estimators': [100]}"
   ]
  },
  {
   "cell_type": "code",
   "execution_count": 47,
   "outputs": [],
   "source": [
    "def display_scores(scores):\n",
    "    print(\"Scores: {0}\\nMean: {1:.3f}\\nStd: {2:.3f}\".format(scores, np.mean(scores), np.std(scores)))\n",
    "\n",
    "def report_best_scores(results, n_top=3):\n",
    "    for i in range(1, n_top + 1):\n",
    "        candidates = np.flatnonzero(results['rank_test_score'] == i)\n",
    "        for candidate in candidates:\n",
    "            print(\"Model with rank: {0}\".format(i))\n",
    "            print(\"Mean validation score: {0:.3f} (std: {1:.3f})\".format(\n",
    "                  results['mean_test_score'][candidate],\n",
    "                  results['std_test_score'][candidate]))\n",
    "            print(\"Parameters: {0}\".format(results['params'][candidate]))\n",
    "            print(\"\")\n",
    "\n",
    "# transform a time series dataset into a supervised learning dataset\n",
    "def series_to_supervised(data, n_in=1, n_out=1, dropnan=True):\n",
    "\tn_vars = 1 if type(data) is list else data.shape[1]\n",
    "\tdf = DataFrame(data)\n",
    "\tcols = list()\n",
    "\t# input sequence (t-n, ... t-1)\n",
    "\tfor i in range(n_in, 0, -1):\n",
    "\t\tcols.append(df.shift(i))\n",
    "\t# forecast sequence (t, t+1, ... t+n)\n",
    "\tfor i in range(0, n_out):\n",
    "\t\tcols.append(df.shift(-i))\n",
    "\t# put it all together\n",
    "\tagg = concat(cols, axis=1)\n",
    "\t# drop rows with NaN values\n",
    "\tif dropnan:\n",
    "\t\tagg.dropna(inplace=True)\n",
    "\treturn agg.values\n",
    "\n",
    "# split a univariate dataset into train/test sets\n",
    "def train_test_split(data, n_test):\n",
    "\treturn data[:-n_test, :], data[-n_test:, :]\n",
    "\n",
    "# fit an xgboost model and make a one step prediction\n",
    "def xgboost_forecast(train, testX):\n",
    "    # transform list into array\n",
    "    train = asarray(train)\n",
    "    # split into input and output columns\n",
    "    trainX, trainy = train[:, :-1], train[:, -1]\n",
    "    # fit model\n",
    "    model = XGBRegressor(objective='reg:squarederror', n_estimators= 1500,\n",
    "                         learning_rate=0.02 ,max_depth=8) # learning_rate=0.001, verbosity=0, booster=\"\")\n",
    "    model.fit(trainX, trainy)\n",
    "    # make a one-step prediction\n",
    "    yhat = model.predict(asarray([testX]))\n",
    "    return yhat[0]\n",
    "\n",
    "    #regressor = XGBRegressor(objective='reg:squarederror', n_estimators=1000)\n",
    "    #random_search = RandomizedSearchCV(regressor, param_distributions=params, scoring=\"neg_mean_squared_error\", n_jobs=-1, verbose=3)\n",
    "    #random_search.fit(trainX, trainy)\n",
    "    #random_search.best_estimator_\n",
    "    #random_search.best_params_\n",
    "    #yhat = regressor.predict(asarray[testX])\n",
    "    #return yhat[0]\n",
    "\n",
    "    # reg = XGBRegressor()\n",
    "    # reg_rs = RandomizedSearchCV(reg, param_grid, n_iter=20,\n",
    "    #                         n_jobs=1, verbose=2, cv=2,\n",
    "    #                         scoring='neg_log_loss', refit=False, random_state=42)\n",
    "    # print(\"Randomized search..\")\n",
    "    # search_time_start = time.time()\n",
    "    # reg_rs.fit(trainX, trainy)\n",
    "    # print(\"Randomized search time:\", time.time() - search_time_start)\n",
    "    #\n",
    "    # best_score = reg_rs.best_score_\n",
    "    # best_params = reg_rs.best_params_\n",
    "    # print(\"Best score: {}\".format(best_score))\n",
    "    # print(\"Best params: \")\n",
    "    # for param_name in sorted(best_params.keys()):\n",
    "    #     print('%s: %r' % (param_name, best_params[param_name]))\n",
    "\n",
    "# walk-forward validation for univariate data\n",
    "def walk_forward_validation(data, n_test):\n",
    "\tpredictions = list()\n",
    "\t# split dataset\n",
    "\ttrain, test = train_test_split(data, n_test)\n",
    "\t# seed history with training dataset\n",
    "\thistory = [x for x in train]\n",
    "\t# step over each time-step in the test set\n",
    "\tfor i in range(len(test)):\n",
    "\t\t# split test row into input and output columns\n",
    "\t\ttestX, testy = test[i, :-1], test[i, -1]\n",
    "\t\t# fit model on history and make a prediction\n",
    "\t\tyhat = xgboost_forecast(history, testX)\n",
    "\t\t# store forecast in list of predictions\n",
    "\t\tpredictions.append(yhat)\n",
    "\t\t# add actual observation to history for the next loop\n",
    "\t\thistory.append(test[i])\n",
    "\t\t# summarize progress\n",
    "\t\t#print('>expected=%.1f, predicted=%.1f' % (testy, yhat))\n",
    "\t# estimate prediction error\n",
    "\terror = mean_absolute_error(test[:, -1], predictions)\n",
    "\treturn error, test[:, -1], predictions"
   ],
   "metadata": {
    "collapsed": false,
    "pycharm": {
     "name": "#%%\n"
    }
   }
  },
  {
   "cell_type": "code",
   "execution_count": 48,
   "outputs": [],
   "source": [
    "# load the dataset\n",
    "file = \"C:/Users/gurpr/Videos/BetaSci/Rossmann_Store1_Data_FULL.csv\"\n",
    "pwd = os.getcwd()\n",
    "os.chdir(os.path.dirname(file))\n",
    "series = read_csv('Rossmann_Store1_Data_FULL.csv', header=0, index_col=0)\n",
    "values = series.values\n",
    "# transform the time series data into supervised learning and use n_in previous time steps\n",
    "data = series_to_supervised(values, n_in=584)"
   ],
   "metadata": {
    "collapsed": false,
    "pycharm": {
     "name": "#%%\n"
    }
   }
  },
  {
   "cell_type": "code",
   "execution_count": 49,
   "outputs": [
    {
     "name": "stdout",
     "output_type": "stream",
     "text": [
      "(780, 1)\n",
      "(780, 1)\n",
      "(196, 585)\n"
     ]
    }
   ],
   "source": [
    "print(series.shape)\n",
    "print(values.shape)\n",
    "print(data.shape)\n",
    "\n",
    "#n_in: 1 en n_test 100 ==> MAE: 548.457\n",
    "#n_in: 584 en n_test 195 ==> MAE: 669.020\n",
    "#n_in: 1 and n_test 195 ==> MAE: 769.970"
   ],
   "metadata": {
    "collapsed": false,
    "pycharm": {
     "name": "#%%\n"
    }
   }
  },
  {
   "cell_type": "code",
   "execution_count": 50,
   "outputs": [
    {
     "name": "stderr",
     "output_type": "stream",
     "text": [
      "C:\\Users\\gurpr\\AppData\\Local\\Programs\\Python\\Python38\\lib\\site-packages\\xgboost\\data.py:104: UserWarning: Use subset (sliced data) of np.ndarray is not recommended because it will generate extra copies and increase memory consumption\n",
      "  warnings.warn(\n"
     ]
    },
    {
     "name": "stdout",
     "output_type": "stream",
     "text": [
      "MAE: 638.965\n"
     ]
    },
    {
     "data": {
      "text/plain": "<Figure size 432x288 with 1 Axes>",
      "image/png": "[encoded data removed]"
     },
     "metadata": {
      "needs_background": "light"
     },
     "output_type": "display_data"
    }
   ],
   "source": [
    "# evaluate\n",
    "mae, y, yhat = walk_forward_validation(data, 195)\n",
    "print('MAE: %.3f' % mae)\n",
    "# plot expected vs preducted\n",
    "pyplot.plot(y, label='Expected')\n",
    "pyplot.plot(yhat, label='Predicted')\n",
    "pyplot.legend()\n",
    "pyplot.show()"
   ],
   "metadata": {
    "collapsed": false,
    "pycharm": {
     "name": "#%%\n"
    }
   }
  },
  {
   "cell_type": "code",
   "execution_count": 52,
   "outputs": [
    {
     "name": "stdout",
     "output_type": "stream",
     "text": [
      "[6206 6184 4883 4883 4914 5059 5268 6228 7890 7738 7501 6477 7492 5617\n",
      " 5839 6431 5153 5182 5680 5954 5018 5796 5866 7092 6293 4561 5026 5026\n",
      " 4539 5425 5031 5298 5872 4348 5692 5608 6463 5094 4388 4123 4670 5063\n",
      " 5957 3349 5127 5282 5268 5586 4156 4249 4227 4619 4820 4187 3595 3483\n",
      " 4487 5186 4892 4360 4703 4651 4781 4492 4459 4317 4281 4184 4335 4851\n",
      " 6325 5803 4516 5187 4714 4636 4675 4805 4074 4193 4348 4294 4818 5290\n",
      " 4523 4455 4453 4204 4048 3345 3667 3787 4218 4487 5457 5505 5130 6197\n",
      " 5845 6193 5086 4367 3901 4402 4409 5177 5288 4843 4575 5131 4770 4083\n",
      " 3998 3725 3599 3931 5508 5604 4557 5126 5349 5976 5234 4220 4053 4152\n",
      " 4770 4706 4672 4068 4195 4468 4775 5073 4872 3907 3801 4422 4132 4199\n",
      " 4312 4331 4896 5264 5906 5551 5250 5333 4449 4064 4335 4053 4162 4117\n",
      " 4381 5264 5127 4443 4189 3882 3942 3795 3931 3620 4214 4022 4015 5285\n",
      " 5517 5229 4978 4330 4202 4190 3763 4163 4169 4235 4546 5364 5254 4397\n",
      " 4396 4164 4149 4076 3684 3615 3801 4157 4978 5853 4894 4937 4997]\n"
     ]
    }
   ],
   "source": [
    "out = np.array(yhat, dtype=int)\n",
    "out.round()\n",
    "print(out)\n",
    "df = pd.DataFrame({'Predicted Sales': out})\n",
    "df.to_csv(r'C:\\Users\\gurpr\\Videos\\BetaSci\\Xgboost_win30_n-est1,5k_depth8_l-rate0.02.csv', index=False, header=True)"
   ],
   "metadata": {
    "collapsed": false,
    "pycharm": {
     "name": "#%%\n"
    }
   }
  }
 ],
 "metadata": {
  "kernelspec": {
   "display_name": "PyCharm (BetaSci)",
   "language": "python",
   "name": "pycharm-6936f044"
  },
  "language_info": {
   "codemirror_mode": {
    "name": "ipython",
    "version": 2
   },
   "file_extension": ".py",
   "mimetype": "text/x-python",
   "name": "python",
   "nbconvert_exporter": "python",
   "pygments_lexer": "ipython2",
   "version": "2.7.6"
  }
 },
 "nbformat": 4,
 "nbformat_minor": 0
}
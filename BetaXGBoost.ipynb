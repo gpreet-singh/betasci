{
 "cells": [
  {
   "cell_type": "code",
   "execution_count": 8,
   "metadata": {
    "collapsed": true
   },
   "outputs": [
    {
     "name": "stdout",
     "output_type": "stream",
     "text": [
      "[21:30:35] WARNING: C:/Users/Administrator/workspace/xgboost-win64_release_1.3.0/src/objective/regression_obj.cu:170: reg:linear is now deprecated in favor of reg:squarederror.\n",
      "0.2401475171547707\n"
     ]
    }
   ],
   "source": [
    "#https://machinelearningmastery.com/xgboost-for-time-series-forecasting/?unapproved=601592&moderation-hash=d98f616a2939421833382d1e7772df57#comment-601592\n",
    "import os\n",
    "import pandas as pd\n",
    "from matplotlib import pyplot\n",
    "import numpy as np\n",
    "from scipy.stats import uniform, randint\n",
    "from sklearn.datasets import load_breast_cancer, load_diabetes, load_wine\n",
    "from sklearn.metrics import auc, accuracy_score, confusion_matrix, mean_squared_error\n",
    "from sklearn.model_selection import cross_val_score, GridSearchCV, KFold, RandomizedSearchCV, train_test_split\n",
    "from numpy import asarray\n",
    "from pandas import read_csv\n",
    "from pandas import DataFrame\n",
    "from pandas import concat\n",
    "from sklearn.metrics import mean_absolute_error\n",
    "from xgboost import XGBRegressor\n",
    "from matplotlib import pyplot"
   ]
  },
  {
   "cell_type": "code",
   "execution_count": null,
   "outputs": [],
   "source": [
    "def display_scores(scores):\n",
    "    print(\"Scores: {0}\\nMean: {1:.3f}\\nStd: {2:.3f}\".format(scores, np.mean(scores), np.std(scores)))\n",
    "\n",
    "def report_best_scores(results, n_top=3):\n",
    "    for i in range(1, n_top + 1):\n",
    "        candidates = np.flatnonzero(results['rank_test_score'] == i)\n",
    "        for candidate in candidates:\n",
    "            print(\"Model with rank: {0}\".format(i))\n",
    "            print(\"Mean validation score: {0:.3f} (std: {1:.3f})\".format(\n",
    "                  results['mean_test_score'][candidate],\n",
    "                  results['std_test_score'][candidate]))\n",
    "            print(\"Parameters: {0}\".format(results['params'][candidate]))\n",
    "            print(\"\")\n",
    "\n",
    "# transform a time series dataset into a supervised learning dataset\n",
    "def series_to_supervised(data, n_in=1, n_out=1, dropnan=True):\n",
    "\tn_vars = 1 if type(data) is list else data.shape[1]\n",
    "\tdf = DataFrame(data)\n",
    "\tcols = list()\n",
    "\t# input sequence (t-n, ... t-1)\n",
    "\tfor i in range(n_in, 0, -1):\n",
    "\t\tcols.append(df.shift(i))\n",
    "\t# forecast sequence (t, t+1, ... t+n)\n",
    "\tfor i in range(0, n_out):\n",
    "\t\tcols.append(df.shift(-i))\n",
    "\t# put it all together\n",
    "\tagg = concat(cols, axis=1)\n",
    "\t# drop rows with NaN values\n",
    "\tif dropnan:\n",
    "\t\tagg.dropna(inplace=True)\n",
    "\treturn agg.values\n",
    "\n",
    "# split a univariate dataset into train/test sets\n",
    "def train_test_split(data, n_test):\n",
    "\treturn data[:-n_test, :], data[-n_test:, :]\n",
    "\n",
    "# fit an xgboost model and make a one step prediction\n",
    "def xgboost_forecast(train, testX):\n",
    "\t# transform list into array\n",
    "\ttrain = asarray(train)\n",
    "\t# split into input and output columns\n",
    "\ttrainX, trainy = train[:, :-1], train[:, -1]\n",
    "\t# fit model\n",
    "\tmodel = XGBRegressor(objective='reg:squarederror', n_estimators=1000)\n",
    "\tmodel.fit(trainX, trainy)\n",
    "\t# make a one-step prediction\n",
    "\tyhat = model.predict(asarray([testX]))\n",
    "\treturn yhat[0]\n",
    "\n",
    "# walk-forward validation for univariate data\n",
    "def walk_forward_validation(data, n_test):\n",
    "\tpredictions = list()\n",
    "\t# split dataset\n",
    "\ttrain, test = train_test_split(data, n_test)\n",
    "\t# seed history with training dataset\n",
    "\thistory = [x for x in train]\n",
    "\t# step over each time-step in the test set\n",
    "\tfor i in range(len(test)):\n",
    "\t\t# split test row into input and output columns\n",
    "\t\ttestX, testy = test[i, :-1], test[i, -1]\n",
    "\t\t# fit model on history and make a prediction\n",
    "\t\tyhat = xgboost_forecast(history, testX)\n",
    "\t\t# store forecast in list of predictions\n",
    "\t\tpredictions.append(yhat)\n",
    "\t\t# add actual observation to history for the next loop\n",
    "\t\thistory.append(test[i])\n",
    "\t\t# summarize progress\n",
    "\t\tprint('>expected=%.1f, predicted=%.1f' % (testy, yhat))\n",
    "\t# estimate prediction error\n",
    "\terror = mean_absolute_error(test[:, -1], predictions)\n",
    "\treturn error, test[:, -1], predictions"
   ],
   "metadata": {
    "collapsed": false,
    "pycharm": {
     "name": "#%%\n"
    }
   }
  },
  {
   "cell_type": "code",
   "execution_count": null,
   "outputs": [],
   "source": [
    "# load the dataset\n",
    "series = read_csv('Rossmann_Store1_Data_FULL.csv', header=0, index_col=0)\n",
    "values = series.values\n",
    "# transform the time series data into supervised learning\n",
    "data = series_to_supervised(values, n_in=585)"
   ],
   "metadata": {
    "collapsed": false,
    "pycharm": {
     "name": "#%%\n"
    }
   }
  },
  {
   "cell_type": "code",
   "execution_count": 21,
   "outputs": [
    {
     "name": "stdout",
     "output_type": "stream",
     "text": [
      ">expected=6206.0, predicted=5376.8\n",
      ">expected=6816.0, predicted=5336.3\n",
      ">expected=6574.0, predicted=5361.9\n",
      ">expected=6709.0, predicted=5560.6\n",
      ">expected=4163.0, predicted=6254.7\n",
      ">expected=4194.0, predicted=4633.2\n",
      ">expected=3467.0, predicted=4386.0\n",
      ">expected=3549.0, predicted=3945.7\n",
      ">expected=4173.0, predicted=3898.7\n",
      ">expected=5377.0, predicted=4407.4\n",
      ">expected=4648.0, predicted=5724.8\n",
      ">expected=4110.0, predicted=5036.8\n",
      ">expected=4116.0, predicted=4234.3\n",
      ">expected=4718.0, predicted=4502.0\n",
      ">expected=4594.0, predicted=4888.7\n",
      ">expected=3722.0, predicted=4520.5\n",
      ">expected=3037.0, predicted=4450.8\n",
      ">expected=3319.0, predicted=4113.0\n",
      ">expected=3076.0, predicted=3500.9\n",
      ">expected=3198.0, predicted=3402.4\n",
      ">expected=4318.0, predicted=3267.9\n",
      ">expected=5575.0, predicted=5625.6\n",
      ">expected=5199.0, predicted=5751.7\n",
      ">expected=5775.0, predicted=4991.7\n",
      ">expected=6228.0, predicted=5017.1\n",
      ">expected=5850.0, predicted=5493.9\n",
      ">expected=5591.0, predicted=5753.4\n",
      ">expected=4564.0, predicted=5386.7\n",
      ">expected=4960.0, predicted=3586.9\n",
      ">expected=4529.0, predicted=4080.0\n",
      ">expected=4683.0, predicted=3973.5\n",
      ">expected=4945.0, predicted=4434.1\n",
      ">expected=3551.0, predicted=4778.6\n",
      ">expected=3547.0, predicted=4267.8\n",
      ">expected=3998.0, predicted=3910.3\n",
      ">expected=4178.0, predicted=4207.6\n",
      ">expected=4431.0, predicted=4107.6\n",
      ">expected=5280.0, predicted=5020.8\n",
      ">expected=5235.0, predicted=5360.1\n",
      ">expected=4735.0, predicted=4776.0\n",
      ">expected=3755.0, predicted=4062.1\n",
      ">expected=4459.0, predicted=4291.2\n",
      ">expected=4276.0, predicted=4019.1\n",
      ">expected=4211.0, predicted=4416.8\n",
      ">expected=4083.0, predicted=4418.9\n",
      ">expected=4111.0, predicted=4314.5\n",
      ">expected=4656.0, predicted=4467.0\n",
      ">expected=5592.0, predicted=4737.2\n",
      ">expected=5774.0, predicted=5127.0\n",
      ">expected=5450.0, predicted=6057.1\n",
      ">expected=5809.0, predicted=5133.1\n",
      ">expected=5384.0, predicted=5412.4\n",
      ">expected=4183.0, predicted=4941.8\n",
      ">expected=4071.0, predicted=4603.3\n",
      ">expected=4102.0, predicted=4148.5\n",
      ">expected=3591.0, predicted=4626.2\n",
      ">expected=3627.0, predicted=4632.2\n",
      ">expected=3695.0, predicted=4676.0\n",
      ">expected=4256.0, predicted=4242.4\n",
      ">expected=5518.0, predicted=4109.4\n",
      ">expected=4852.0, predicted=4985.5\n",
      ">expected=4000.0, predicted=5401.8\n",
      ">expected=4645.0, predicted=4929.9\n",
      ">expected=4202.0, predicted=4307.0\n",
      ">expected=4097.0, predicted=4080.5\n",
      ">expected=3846.0, predicted=4330.7\n",
      ">expected=3762.0, predicted=3506.8\n",
      ">expected=3346.0, predicted=4033.6\n",
      ">expected=3533.0, predicted=3654.0\n",
      ">expected=3317.0, predicted=4299.8\n",
      ">expected=4019.0, predicted=4577.5\n",
      ">expected=5197.0, predicted=4071.4\n",
      ">expected=5735.0, predicted=5289.0\n",
      ">expected=5223.0, predicted=5346.2\n",
      ">expected=5558.0, predicted=5055.2\n",
      ">expected=4665.0, predicted=4787.6\n",
      ">expected=4797.0, predicted=4518.5\n",
      ">expected=4359.0, predicted=4099.3\n",
      ">expected=3650.0, predicted=4211.0\n",
      ">expected=3797.0, predicted=3622.6\n",
      ">expected=3897.0, predicted=4488.7\n",
      ">expected=3808.0, predicted=4223.1\n",
      ">expected=3530.0, predicted=4413.8\n",
      ">expected=5054.0, predicted=4284.5\n",
      ">expected=5042.0, predicted=4934.8\n",
      ">expected=4767.0, predicted=5233.6\n",
      ">expected=4427.0, predicted=4524.7\n",
      ">expected=4852.0, predicted=3813.9\n",
      ">expected=4406.0, predicted=4330.3\n",
      ">expected=4395.0, predicted=4091.6\n",
      ">expected=3558.0, predicted=4019.6\n",
      ">expected=3464.0, predicted=3730.7\n",
      ">expected=3769.0, predicted=3597.2\n",
      ">expected=3706.0, predicted=3924.1\n",
      ">expected=4364.0, predicted=4297.3\n",
      ">expected=6102.0, predicted=4858.5\n",
      ">expected=5011.0, predicted=6065.4\n",
      ">expected=4782.0, predicted=4935.4\n",
      ">expected=5020.0, predicted=4877.9\n",
      ">expected=5263.0, predicted=4703.6\n",
      "MAE: 548.457\n"
     ]
    },
    {
     "data": {
      "text/plain": "<Figure size 432x288 with 1 Axes>",
      "image/png": "[encoded data removed]"
     },
     "metadata": {
      "needs_background": "light"
     },
     "output_type": "display_data"
    }
   ],
   "source": [
    "# evaluate\n",
    "mae, y, yhat = walk_forward_validation(data, 100)\n",
    "print('MAE: %.3f' % mae)\n",
    "# plot expected vs preducted\n",
    "pyplot.plot(y, label='Expected')\n",
    "pyplot.plot(yhat, label='Predicted')\n",
    "pyplot.legend()\n",
    "pyplot.show()"
   ],
   "metadata": {
    "collapsed": false,
    "pycharm": {
     "name": "#%%\n"
    }
   }
  },
  {
   "cell_type": "code",
   "execution_count": 28,
   "outputs": [
    {
     "name": "stdout",
     "output_type": "stream",
     "text": [
      "[5376 5336 5361 5560 6254 4633 4386 3945 3898 4407 5724 5036 4234 4501\n",
      " 4888 4520 4450 4113 3500 3402 3267 5625 5751 4991 5017 5493 5753 5386\n",
      " 3586 4079 3973 4434 4778 4267 3910 4207 4107 5020 5360 4775 4062 4291\n",
      " 4019 4416 4418 4314 4467 4737 5126 6057 5133 5412 4941 4603 4148 4626\n",
      " 4632 4675 4242 4109 4985 5401 4929 4307 4080 4330 3506 4033 3653 4299\n",
      " 4577 4071 5288 5346 5055 4787 4518 4099 4210 3622 4488 4223 4413 4284\n",
      " 4934 5233 4524 3813 4330 4091 4019 3730 3597 3924 4297 4858 6065 4935\n",
      " 4877 4703]\n"
     ]
    }
   ],
   "source": [
    "out = np.array(yhat, dtype=int)\n",
    "out.round()\n",
    "print(out)\n",
    "df = pd.DataFrame({'Predicted Sales': out})\n",
    "df.to_csv(r'C:\\Users\\gurpr\\Videos\\BetaSci\\Xgboost_pred100.csv', index=False, header=True)"
   ],
   "metadata": {
    "collapsed": false,
    "pycharm": {
     "name": "#%%\n"
    }
   }
  }
 ],
 "metadata": {
  "kernelspec": {
   "display_name": "PyCharm (BetaSci)",
   "language": "python",
   "name": "pycharm-6936f044"
  },
  "language_info": {
   "codemirror_mode": {
    "name": "ipython",
    "version": 2
   },
   "file_extension": ".py",
   "mimetype": "text/x-python",
   "name": "python",
   "nbconvert_exporter": "python",
   "pygments_lexer": "ipython2",
   "version": "2.7.6"
  }
 },
 "nbformat": 4,
 "nbformat_minor": 0
}